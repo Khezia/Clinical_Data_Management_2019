{
 "cells": [
  {
   "cell_type": "markdown",
   "metadata": {},
   "source": [
    "# Coursework 2: Clinical image classification\n",
    "\n",
    "In this coursework, we will work on a clinical imaging dataset. The dataset comes from [ISIC (International Skin Imaging Collaboration) 2016 Challenge](https://challenge.kitware.com/#challenge/560d7856cad3a57cfde481ba). It consists of 900 skin lesion images, categorised into two classes: malignant (melanoma) and benign, as shown here.\n",
    "\n",
    "![](melanoma_vs_benign.jpg)\n",
    "\n",
    "To faciliate this coursework, we have pre-processed the images for you, including resizing the original images to a standard size of 32 by 32, splitting into a training set and a test set, so you simply need to focus on the visualisation and classification work. Your task here is to read the imaging data and train a model that classifies between benign and malignant images.\n",
    "\n",
    "Hint: This coursework is similar to the hand digit classification problem you have just learnt at class. It is a transition from data management to data analysis. You will use a machine learning library, sklearn, and we have provided guidance in this coursework. We will assess the proper implementation of the whole pipeline, but not the classification accuracy. Just have fun!\n",
    "\n",
    "In the next term, you will learn more about machine learning, what each of the model mentioned here does and how to improve the classification performance."
   ]
  },
  {
   "cell_type": "code",
   "execution_count": 3,
   "metadata": {},
   "outputs": [],
   "source": [
    "# Load the libraries (provided)\n",
    "import os\n",
    "import imageio\n",
    "import matplotlib.pyplot as plt\n",
    "import pandas as pd\n",
    "import numpy as np\n",
    "import sklearn\n",
    "from sklearn import neighbors, ensemble, svm, metrics"
   ]
  },
  {
   "cell_type": "markdown",
   "metadata": {},
   "source": [
    "## 1. Load and visualise data.\n",
    "\n",
    "#### 1.1 Load the spreadsheets `training.csv` and `test.csv`. Print the first few lines. Check how many benign and malignant cases there are in training and test sets. (15 points)"
   ]
  },
  {
   "cell_type": "code",
   "execution_count": 4,
   "metadata": {
    "scrolled": true
   },
   "outputs": [
    {
     "data": {
      "text/html": [
       "<div>\n",
       "<style scoped>\n",
       "    .dataframe tbody tr th:only-of-type {\n",
       "        vertical-align: middle;\n",
       "    }\n",
       "\n",
       "    .dataframe tbody tr th {\n",
       "        vertical-align: top;\n",
       "    }\n",
       "\n",
       "    .dataframe thead th {\n",
       "        text-align: right;\n",
       "    }\n",
       "</style>\n",
       "<table border=\"1\" class=\"dataframe\">\n",
       "  <thead>\n",
       "    <tr style=\"text-align: right;\">\n",
       "      <th></th>\n",
       "      <th>label</th>\n",
       "    </tr>\n",
       "  </thead>\n",
       "  <tbody>\n",
       "    <tr>\n",
       "      <th>ISIC_0000500</th>\n",
       "      <td>benign</td>\n",
       "    </tr>\n",
       "    <tr>\n",
       "      <th>ISIC_0010086</th>\n",
       "      <td>benign</td>\n",
       "    </tr>\n",
       "    <tr>\n",
       "      <th>ISIC_0010455</th>\n",
       "      <td>benign</td>\n",
       "    </tr>\n",
       "    <tr>\n",
       "      <th>ISIC_0009188</th>\n",
       "      <td>benign</td>\n",
       "    </tr>\n",
       "    <tr>\n",
       "      <th>ISIC_0011348</th>\n",
       "      <td>malignant</td>\n",
       "    </tr>\n",
       "  </tbody>\n",
       "</table>\n",
       "</div>"
      ],
      "text/plain": [
       "                  label\n",
       "ISIC_0000500     benign\n",
       "ISIC_0010086     benign\n",
       "ISIC_0010455     benign\n",
       "ISIC_0009188     benign\n",
       "ISIC_0011348  malignant"
      ]
     },
     "execution_count": 4,
     "metadata": {},
     "output_type": "execute_result"
    }
   ],
   "source": [
    "training=pd.read_csv(\"training.csv\", index_col=0)\n",
    "training.head()\n"
   ]
  },
  {
   "cell_type": "code",
   "execution_count": 6,
   "metadata": {},
   "outputs": [
    {
     "data": {
      "text/html": [
       "<div>\n",
       "<style scoped>\n",
       "    .dataframe tbody tr th:only-of-type {\n",
       "        vertical-align: middle;\n",
       "    }\n",
       "\n",
       "    .dataframe tbody tr th {\n",
       "        vertical-align: top;\n",
       "    }\n",
       "\n",
       "    .dataframe thead th {\n",
       "        text-align: right;\n",
       "    }\n",
       "</style>\n",
       "<table border=\"1\" class=\"dataframe\">\n",
       "  <thead>\n",
       "    <tr style=\"text-align: right;\">\n",
       "      <th></th>\n",
       "      <th>label</th>\n",
       "    </tr>\n",
       "  </thead>\n",
       "  <tbody>\n",
       "    <tr>\n",
       "      <th>ISIC_0011295</th>\n",
       "      <td>malignant</td>\n",
       "    </tr>\n",
       "    <tr>\n",
       "      <th>ISIC_0000292</th>\n",
       "      <td>malignant</td>\n",
       "    </tr>\n",
       "    <tr>\n",
       "      <th>ISIC_0004715</th>\n",
       "      <td>benign</td>\n",
       "    </tr>\n",
       "    <tr>\n",
       "      <th>ISIC_0000077</th>\n",
       "      <td>benign</td>\n",
       "    </tr>\n",
       "    <tr>\n",
       "      <th>ISIC_0010357</th>\n",
       "      <td>benign</td>\n",
       "    </tr>\n",
       "  </tbody>\n",
       "</table>\n",
       "</div>"
      ],
      "text/plain": [
       "                  label\n",
       "ISIC_0011295  malignant\n",
       "ISIC_0000292  malignant\n",
       "ISIC_0004715     benign\n",
       "ISIC_0000077     benign\n",
       "ISIC_0010357     benign"
      ]
     },
     "execution_count": 6,
     "metadata": {},
     "output_type": "execute_result"
    }
   ],
   "source": [
    "test=pd.read_csv(\"test.csv\", index_col=0)\n",
    "test.head()"
   ]
  },
  {
   "cell_type": "markdown",
   "metadata": {},
   "source": [
    "#### 1.2 From the training image set, load five malignant cases and display their images. (10 points)\n",
    "\n",
    "The images are compressed in files with suffix \".tar.gz\". You need to decompress them first.\n",
    "\n",
    "Hint: You can use the library [imageio](https://imageio.github.io/) to read images."
   ]
  },
  {
   "cell_type": "code",
   "execution_count": 7,
   "metadata": {},
   "outputs": [],
   "source": [
    "import tarfile\n",
    "tar = tarfile.open(\"training.tar.gz\")\n",
    "tar.extractall()\n",
    "tar.close()"
   ]
  },
  {
   "cell_type": "code",
   "execution_count": 8,
   "metadata": {
    "scrolled": true
   },
   "outputs": [
    {
     "data": {
      "image/png": "[encoded data removed]",
      "text/plain": [
       "<Figure size 432x288 with 5 Axes>"
      ]
     },
     "metadata": {
      "needs_background": "light"
     },
     "output_type": "display_data"
    }
   ],
   "source": [
    "import imageio as io\n",
    "malignantdata=training[training[\"label\"]==\"malignant\"]\n",
    "\n",
    "for index, name in enumerate(malignantdata.head(5).index):\n",
    "    toread=name + \".jpg\"\n",
    "    plt.subplot(1,5, index+1)\n",
    "    im=io.imread(r\"C:\\Users\\Khezia\\Documents\\GitHub\\Clinical_Data_Management_2019\\coursework_2\\training\\{}\".format(toread))\n",
    "    plt.imshow(im)\n",
    "    plt.title(name)\n",
    "    plt.axis(\"off\")\n",
    "\n",
    "    plt.tight_layout(pad=0.5)"
   ]
  },
  {
   "cell_type": "markdown",
   "metadata": {},
   "source": [
    "#### 1.3 From the training image set, load five benign cases and display their images. (10 points)"
   ]
  },
  {
   "cell_type": "code",
   "execution_count": 9,
   "metadata": {},
   "outputs": [
    {
     "data": {
      "image/png": "[encoded data removed]",
      "text/plain": [
       "<Figure size 432x288 with 5 Axes>"
      ]
     },
     "metadata": {
      "needs_background": "light"
     },
     "output_type": "display_data"
    }
   ],
   "source": [
    "import imageio as io\n",
    "benigndata=training[training[\"label\"]==\"benign\"]\n",
    "\n",
    "for index, name in enumerate(benigndata.head(5).index):\n",
    "    toread=name + \".jpg\"\n",
    "    plt.subplot(1,5, index+1)\n",
    "    im=io.imread(r\"C:\\Users\\Khezia\\Documents\\GitHub\\Clinical_Data_Management_2019\\coursework_2\\training\\{}\".format(toread))\n",
    "    plt.imshow(im)\n",
    "    plt.title(name)\n",
    "    plt.axis(\"off\")\n",
    "\n",
    "    plt.tight_layout(pad=0.5)"
   ]
  },
  {
   "cell_type": "markdown",
   "metadata": {},
   "source": [
    "#### 1.4 Pick one image and show the three channels (R-G-B) of the image separately. (10 points)\n",
    "\n",
    "Hint: An RGB image is an array of size X x Y x C, where C = 3, standing for respectively red, green and blue channels. You can use `Reds_r`, `Greens_r`, `Blues_r` as the cmap (colormap) for each channel when you plot the images."
   ]
  },
  {
   "cell_type": "code",
   "execution_count": 10,
   "metadata": {},
   "outputs": [
    {
     "data": {
      "image/png": "[encoded data removed]",
      "text/plain": [
       "<Figure size 432x288 with 7 Axes>"
      ]
     },
     "metadata": {
      "needs_background": "light"
     },
     "output_type": "display_data"
    }
   ],
   "source": [
    "img = io.imread(r'C:\\Users\\Khezia\\Documents\\GitHub\\Clinical_Data_Management_2019\\coursework_2\\training\\ISIC_0010086.jpg')\n",
    "red = img[:, :, 0]\n",
    "green = img[:, :, 1]\n",
    "blue = img[:, :, 2]\n",
    "\n",
    "fig, axs = plt.subplots(2,2)\n",
    "\n",
    "c = axs[0,0].imshow(img)\n",
    "axs[0,0].xaxis.set_major_formatter(plt.NullFormatter())  # kill xlabels\n",
    "axs[0,0].yaxis.set_major_formatter(plt.NullFormatter())  # kill ylabels\n",
    "\n",
    "c1 = axs[0,1].imshow(red, cmap='Reds_r')\n",
    "fig.colorbar(c1, ax=axs[0,1])\n",
    "axs[0,1].xaxis.set_major_formatter(plt.NullFormatter())\n",
    "axs[0,1].yaxis.set_major_formatter(plt.NullFormatter())\n",
    "\n",
    "c2 = axs[1,0].imshow(green, cmap='Greens_r')\n",
    "fig.colorbar(c2, ax=axs[1,0])\n",
    "axs[1,0].xaxis.set_major_formatter(plt.NullFormatter())\n",
    "axs[1,0].yaxis.set_major_formatter(plt.NullFormatter())\n",
    "\n",
    "c3 = axs[1,1].imshow(blue, cmap='Blues_r')\n",
    "fig.colorbar(c3, ax=axs[1,1])\n",
    "axs[1,1].xaxis.set_major_formatter(plt.NullFormatter())\n",
    "axs[1,1].yaxis.set_major_formatter(plt.NullFormatter())\n",
    "plt.show()\n"
   ]
  },
  {
   "cell_type": "markdown",
   "metadata": {},
   "source": [
    "#### 1.5 Show the intensity histogram of the image. (5 points)\n",
    "\n",
    "Hint: Flatten the image to a vector, then use the appropriate histogram function in Python."
   ]
  },
  {
   "cell_type": "code",
   "execution_count": 11,
   "metadata": {},
   "outputs": [
    {
     "data": {
      "image/png": "[encoded data removed]",
      "text/plain": [
       "<Figure size 432x288 with 1 Axes>"
      ]
     },
     "metadata": {
      "needs_background": "light"
     },
     "output_type": "display_data"
    }
   ],
   "source": [
    "plt.hist(img.ravel(), 256, [0,256])\n",
    "plt.show()"
   ]
  },
  {
   "cell_type": "markdown",
   "metadata": {},
   "source": [
    "## 2. Analyse data.\n",
    "\n",
    "Here, you need to train a classification model on the training set, then apply it to the test set. Most [sklearn](https://scikit-learn.org) classifiers require two inputs for training a model, respectively features X and labels y.\n",
    "\n",
    "X: N x M matrix, N denoting the number of samples, M denoting the number of features for each sample.\n",
    "\n",
    "y: N x 1 vector, each element recording the label of a sample.\n",
    "\n",
    "#### 2.1 Prepare the training data according to the above description, using variable names X_train and y_train. Print out the shapes, i.e. dimensions, of X_train and y_train. (10 points)"
   ]
  },
  {
   "cell_type": "code",
   "execution_count": 59,
   "metadata": {},
   "outputs": [
    {
     "data": {
      "text/plain": [
       "(600,)"
      ]
     },
     "execution_count": 59,
     "metadata": {},
     "output_type": "execute_result"
    }
   ],
   "source": [
    "im_array=[]\n",
    "\n",
    "for index, name in enumerate(training.index):\n",
    "    toread=name + \".jpg\"\n",
    "    im=io.imread(r\"C:\\Users\\Khezia\\Documents\\GitHub\\Clinical_Data_Management_2019\\coursework_2\\training\\{}\".format(toread))\n",
    "    \n",
    "    im_array.append(im)\n",
    "    #print(x, y, z)\n",
    "    \n",
    "    #im_array.append(together)\n",
    "im_array = np.stack(im_array)   \n",
    "img_num,row,col,colour=im_array.shape\n",
    "im_array=np.reshape(im_array,(img_num,row*col*colour))\n",
    "im_array.shape\n",
    "\n",
    "X_train=im_array\n",
    "\n",
    "y_train=training\n",
    "y_train=np.ravel(y_train)\n",
    "y_train.shape"
   ]
  },
  {
   "cell_type": "code",
   "execution_count": 55,
   "metadata": {},
   "outputs": [
    {
     "name": "stdout",
     "output_type": "stream",
     "text": [
      "(32, 32, 3)\n"
     ]
    }
   ],
   "source": [
    "print(im.shape)"
   ]
  },
  {
   "cell_type": "markdown",
   "metadata": {},
   "source": [
    "#### 2.2 Similarly, prepare the test data according, using variable names X_test and y_test. Print out the shapes of X_test and y_test. (10 points)"
   ]
  },
  {
   "cell_type": "code",
   "execution_count": 60,
   "metadata": {},
   "outputs": [
    {
     "data": {
      "text/plain": [
       "(300,)"
      ]
     },
     "execution_count": 60,
     "metadata": {},
     "output_type": "execute_result"
    }
   ],
   "source": [
    "tartest = tarfile.open(\"test.tar.gz\")\n",
    "tartest.extractall()\n",
    "tartest.close()\n",
    "\n",
    "im_array=[]\n",
    "\n",
    "for index, name in enumerate(test.index):\n",
    "    toread=name + \".jpg\"\n",
    "    im=io.imread(r\"C:\\Users\\Khezia\\Documents\\GitHub\\Clinical_Data_Management_2019\\coursework_2\\test\\{}\".format(toread))\n",
    "    \n",
    "    im_array.append(im)\n",
    "    #print(x, y, z)\n",
    "    \n",
    "    #im_array.append(together)\n",
    "im_array = np.stack(im_array)   \n",
    "img_num,row,col,colour=im_array.shape\n",
    "im_array=np.reshape(im_array,(img_num,row*col*colour))\n",
    "im_array.shape\n",
    "\n",
    "X_test=im_array\n",
    "X_test.shape\n",
    "\n",
    "y_test=test\n",
    "y_test=np.ravel(y_test)\n",
    "y_test.shape"
   ]
  },
  {
   "cell_type": "markdown",
   "metadata": {},
   "source": [
    "#### 2.3 Train a classification model on X_train and y_train. (10 points)\n",
    "\n",
    "Hint: You only need to train one model. You can use any classification model supported by sklearn, including\n",
    "\n",
    "* [K nearest neighbour classifier](https://scikit-learn.org/stable/modules/classes.html#module-sklearn.neighbors)\n",
    "* [Random forest classifier](https://scikit-learn.org/stable/modules/classes.html#module-sklearn.ensemble)\n",
    "* [Support vector machine classifier](https://scikit-learn.org/stable/modules/classes.html#module-sklearn.svm)\n",
    "* or any other models"
   ]
  },
  {
   "cell_type": "code",
   "execution_count": 61,
   "metadata": {},
   "outputs": [
    {
     "data": {
      "text/plain": [
       "KNeighborsClassifier(algorithm='auto', leaf_size=30, metric='minkowski',\n",
       "                     metric_params=None, n_jobs=None, n_neighbors=1, p=2,\n",
       "                     weights='uniform')"
      ]
     },
     "execution_count": 61,
     "metadata": {},
     "output_type": "execute_result"
    }
   ],
   "source": [
    "K=1 #comparing one number against 1\n",
    "model=neighbors.KNeighborsClassifier(K)\n",
    "model.fit(X_train, y_train)"
   ]
  },
  {
   "cell_type": "markdown",
   "metadata": {},
   "source": [
    "#### 2.4 Apply the model on the test set X_test to predict the labels. (5 points)"
   ]
  },
  {
   "cell_type": "code",
   "execution_count": 63,
   "metadata": {},
   "outputs": [],
   "source": [
    "y_pred=model.predict(X_test)\n"
   ]
  },
  {
   "cell_type": "markdown",
   "metadata": {},
   "source": [
    "#### 2.5 Display the [confusion matrix](https://scikit-learn.org/stable/modules/model_evaluation.html#classification-metrics) of the prediction results. (5 points)\n",
    "\n",
    "Hint: You can find an [implementation](https://scikit-learn.org/stable/modules/model_evaluation.html#classification-metrics) in sklearn."
   ]
  },
  {
   "cell_type": "code",
   "execution_count": 70,
   "metadata": {},
   "outputs": [
    {
     "name": "stdout",
     "output_type": "stream",
     "text": [
      "[[212  26]\n",
      " [ 49  13]]\n"
     ]
    },
    {
     "data": {
      "image/png": "[encoded data removed]",
      "text/plain": [
       "<Figure size 432x288 with 2 Axes>"
      ]
     },
     "metadata": {
      "needs_background": "light"
     },
     "output_type": "display_data"
    }
   ],
   "source": [
    "from sklearn.metrics import confusion_matrix\n",
    "confusion_matrix(y_test, y_pred)\n",
    "\n",
    "from sklearn.metrics import confusion_matrix\n",
    "cm=confusion_matrix(y_test, y_pred, )\n",
    "print(cm)\n",
    "\n",
    "labels = ['benign', 'malignant']\n",
    "fig = plt.figure()\n",
    "ax = fig.add_subplot(111)\n",
    "cax = ax.matshow(cm)\n",
    "plt.title('Confusion matrix of the classifier')\n",
    "fig.colorbar(cax)\n",
    "ax.set_xticklabels([''] + labels)\n",
    "ax.set_yticklabels([''] + labels)\n",
    "plt.xlabel('Predicted')\n",
    "plt.ylabel('True')\n",
    "plt.show()\n"
   ]
  },
  {
   "cell_type": "markdown",
   "metadata": {},
   "source": [
    "#### 2.6 Explain how many malignant cases there are in the test set and how many are correctly predicted. (10 points)"
   ]
  },
  {
   "cell_type": "raw",
   "metadata": {},
   "source": [
    "### malig_cases=len(test[test[\"label\"]==\"malignant\"])\n",
    "print(\"There are {} malignant cases in the test set\".format(malig_cases))\n",
    "\n",
    "print(\"There are {} malignant cases that are correctly predicted\".format(cm[1,1]))"
   ]
  },
  {
   "cell_type": "markdown",
   "metadata": {},
   "source": [
    "#### Survey: How long does it take you to complete this coursework?"
   ]
  },
  {
   "cell_type": "code",
   "execution_count": null,
   "metadata": {},
   "outputs": [],
   "source": [
    "Print(\"It took around 12 hours\")"
   ]
  }
 ],
 "metadata": {
  "kernelspec": {
   "display_name": "Python 3",
   "language": "python",
   "name": "python3"
  },
  "language_info": {
   "codemirror_mode": {
    "name": "ipython",
    "version": 3
   },
   "file_extension": ".py",
   "mimetype": "text/x-python",
   "name": "python",
   "nbconvert_exporter": "python",
   "pygments_lexer": "ipython3",
   "version": "3.7.3"
  }
 },
 "nbformat": 4,
 "nbformat_minor": 4
}
